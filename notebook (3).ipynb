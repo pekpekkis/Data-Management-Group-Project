{
 "cells": [
  {
   "cell_type": "code",
   "execution_count": 1,
   "id": "94506712",
   "metadata": {},
   "outputs": [],
   "source": [
    "import pandas as pd"
   ]
  },
  {
   "cell_type": "code",
   "execution_count": 2,
   "id": "6462bf6b",
   "metadata": {
    "scrolled": true
   },
   "outputs": [
    {
     "name": "stderr",
     "output_type": "stream",
     "text": [
      "/var/folders/5p/f8l310bs2qsdvt7n1myb3vxr0000gn/T/ipykernel_93162/1558906559.py:5: FutureWarning: The error_bad_lines argument has been deprecated and will be removed in a future version. Use on_bad_lines in the future.\n",
      "\n",
      "\n",
      "  df_population = pd.read_csv('/Users/axel-dupont/Desktop/Project/annual_population.csv', error_bad_lines=False)\n",
      "b'Skipping line 9002: expected 22 fields, saw 23\\nSkipping line 9003: expected 22 fields, saw 23\\nSkipping line 9004: expected 22 fields, saw 23\\nSkipping line 9005: expected 22 fields, saw 23\\nSkipping line 9006: expected 22 fields, saw 23\\nSkipping line 9007: expected 22 fields, saw 23\\nSkipping line 9008: expected 22 fields, saw 23\\nSkipping line 9009: expected 22 fields, saw 23\\nSkipping line 9010: expected 22 fields, saw 23\\nSkipping line 9011: expected 22 fields, saw 23\\nSkipping line 9012: expected 22 fields, saw 23\\nSkipping line 9013: expected 22 fields, saw 23\\nSkipping line 9014: expected 22 fields, saw 23\\nSkipping line 9015: expected 22 fields, saw 23\\nSkipping line 9016: expected 22 fields, saw 23\\nSkipping line 9017: expected 22 fields, saw 23\\nSkipping line 9018: expected 22 fields, saw 23\\nSkipping line 9019: expected 22 fields, saw 23\\nSkipping line 9020: expected 22 fields, saw 23\\nSkipping line 9021: expected 22 fields, saw 23\\nSkipping line 9022: expected 22 fields, saw 23\\nSkipping line 9023: expected 22 fields, saw 23\\nSkipping line 9024: expected 22 fields, saw 23\\nSkipping line 9025: expected 22 fields, saw 23\\nSkipping line 9026: expected 22 fields, saw 23\\nSkipping line 9027: expected 22 fields, saw 23\\nSkipping line 9028: expected 22 fields, saw 23\\nSkipping line 9029: expected 22 fields, saw 23\\nSkipping line 9030: expected 22 fields, saw 23\\nSkipping line 9031: expected 22 fields, saw 23\\nSkipping line 9032: expected 22 fields, saw 23\\nSkipping line 9033: expected 22 fields, saw 23\\nSkipping line 9034: expected 22 fields, saw 23\\nSkipping line 9035: expected 22 fields, saw 23\\nSkipping line 9036: expected 22 fields, saw 23\\nSkipping line 9037: expected 22 fields, saw 23\\nSkipping line 9038: expected 22 fields, saw 23\\nSkipping line 9039: expected 22 fields, saw 23\\nSkipping line 9040: expected 22 fields, saw 23\\nSkipping line 9041: expected 22 fields, saw 23\\nSkipping line 9042: expected 22 fields, saw 23\\nSkipping line 9043: expected 22 fields, saw 23\\nSkipping line 9044: expected 22 fields, saw 23\\nSkipping line 9045: expected 22 fields, saw 23\\nSkipping line 9046: expected 22 fields, saw 23\\nSkipping line 9047: expected 22 fields, saw 23\\nSkipping line 9048: expected 22 fields, saw 23\\nSkipping line 9049: expected 22 fields, saw 23\\nSkipping line 9050: expected 22 fields, saw 23\\nSkipping line 9051: expected 22 fields, saw 23\\nSkipping line 9052: expected 22 fields, saw 23\\nSkipping line 9053: expected 22 fields, saw 23\\nSkipping line 9054: expected 22 fields, saw 23\\nSkipping line 9055: expected 22 fields, saw 23\\nSkipping line 9056: expected 22 fields, saw 23\\nSkipping line 9057: expected 22 fields, saw 23\\nSkipping line 9058: expected 22 fields, saw 23\\nSkipping line 9059: expected 22 fields, saw 23\\nSkipping line 9060: expected 22 fields, saw 23\\nSkipping line 9061: expected 22 fields, saw 23\\nSkipping line 9062: expected 22 fields, saw 23\\nSkipping line 9063: expected 22 fields, saw 23\\nSkipping line 9064: expected 22 fields, saw 23\\nSkipping line 9065: expected 22 fields, saw 23\\nSkipping line 9066: expected 22 fields, saw 23\\nSkipping line 9067: expected 22 fields, saw 23\\nSkipping line 9068: expected 22 fields, saw 23\\nSkipping line 9069: expected 22 fields, saw 23\\nSkipping line 9070: expected 22 fields, saw 23\\nSkipping line 9071: expected 22 fields, saw 23\\nSkipping line 9072: expected 22 fields, saw 23\\nSkipping line 9073: expected 22 fields, saw 23\\nSkipping line 9074: expected 22 fields, saw 23\\nSkipping line 9075: expected 22 fields, saw 23\\nSkipping line 9076: expected 22 fields, saw 23\\nSkipping line 9077: expected 22 fields, saw 23\\nSkipping line 9078: expected 22 fields, saw 23\\nSkipping line 9079: expected 22 fields, saw 23\\nSkipping line 9080: expected 22 fields, saw 23\\nSkipping line 9081: expected 22 fields, saw 23\\nSkipping line 9082: expected 22 fields, saw 23\\nSkipping line 9083: expected 22 fields, saw 23\\nSkipping line 9084: expected 22 fields, saw 23\\nSkipping line 9085: expected 22 fields, saw 23\\nSkipping line 9086: expected 22 fields, saw 23\\nSkipping line 9087: expected 22 fields, saw 23\\nSkipping line 9088: expected 22 fields, saw 23\\nSkipping line 9089: expected 22 fields, saw 23\\nSkipping line 9090: expected 22 fields, saw 23\\nSkipping line 9091: expected 22 fields, saw 23\\nSkipping line 9092: expected 22 fields, saw 23\\nSkipping line 9093: expected 22 fields, saw 23\\nSkipping line 9094: expected 22 fields, saw 23\\nSkipping line 9095: expected 22 fields, saw 23\\nSkipping line 9096: expected 22 fields, saw 23\\nSkipping line 9097: expected 22 fields, saw 23\\nSkipping line 9098: expected 22 fields, saw 23\\nSkipping line 9099: expected 22 fields, saw 23\\nSkipping line 9100: expected 22 fields, saw 23\\nSkipping line 9101: expected 22 fields, saw 23\\nSkipping line 9102: expected 22 fields, saw 23\\nSkipping line 9103: expected 22 fields, saw 23\\nSkipping line 9104: expected 22 fields, saw 23\\nSkipping line 9105: expected 22 fields, saw 23\\nSkipping line 9106: expected 22 fields, saw 23\\nSkipping line 9107: expected 22 fields, saw 23\\nSkipping line 9108: expected 22 fields, saw 23\\nSkipping line 9109: expected 22 fields, saw 23\\nSkipping line 9110: expected 22 fields, saw 23\\nSkipping line 9111: expected 22 fields, saw 23\\nSkipping line 9112: expected 22 fields, saw 23\\nSkipping line 9113: expected 22 fields, saw 23\\nSkipping line 9114: expected 22 fields, saw 23\\nSkipping line 9115: expected 22 fields, saw 23\\nSkipping line 9116: expected 22 fields, saw 23\\nSkipping line 9117: expected 22 fields, saw 23\\nSkipping line 9118: expected 22 fields, saw 23\\nSkipping line 9119: expected 22 fields, saw 23\\nSkipping line 9120: expected 22 fields, saw 23\\nSkipping line 9121: expected 22 fields, saw 23\\nSkipping line 9122: expected 22 fields, saw 23\\nSkipping line 9123: expected 22 fields, saw 23\\nSkipping line 9124: expected 22 fields, saw 23\\nSkipping line 9125: expected 22 fields, saw 23\\nSkipping line 9126: expected 22 fields, saw 23\\nSkipping line 9127: expected 22 fields, saw 23\\nSkipping line 9128: expected 22 fields, saw 23\\nSkipping line 9129: expected 22 fields, saw 23\\nSkipping line 9130: expected 22 fields, saw 23\\nSkipping line 9131: expected 22 fields, saw 23\\nSkipping line 9132: expected 22 fields, saw 23\\nSkipping line 9133: expected 22 fields, saw 23\\nSkipping line 9134: expected 22 fields, saw 23\\nSkipping line 9135: expected 22 fields, saw 23\\nSkipping line 9136: expected 22 fields, saw 23\\nSkipping line 9137: expected 22 fields, saw 23\\nSkipping line 9138: expected 22 fields, saw 23\\nSkipping line 9139: expected 22 fields, saw 23\\nSkipping line 9140: expected 22 fields, saw 23\\nSkipping line 9141: expected 22 fields, saw 23\\nSkipping line 9142: expected 22 fields, saw 23\\nSkipping line 9143: expected 22 fields, saw 23\\nSkipping line 9144: expected 22 fields, saw 23\\nSkipping line 9145: expected 22 fields, saw 23\\n'\n"
     ]
    }
   ],
   "source": [
    "import pandas as pd\n",
    "\n",
    "df_co2 = pd.read_csv('/Users/axel-dupont/Desktop/Project/annual_co2_emissions.csv')\n",
    "df_green_energy = pd.read_csv('/Users/axel-dupont/Desktop/Project/annual_renewable_energy.csv')\n",
    "df_population = pd.read_csv('/Users/axel-dupont/Desktop/Project/annual_population.csv', error_bad_lines=False)\n",
    "df_GDP = pd.read_csv('/Users/axel-dupont/Desktop/Project/GDP.csv')\n",
    "\n",
    "df_population = df_population.loc[:, ['Country name', 'Year', 'Population']]\n",
    "df_population = df_population.rename(columns={'Country name': 'Entity'}) #grouper par même pays"
   ]
  },
  {
   "cell_type": "code",
   "execution_count": 3,
   "id": "2d32eebe",
   "metadata": {
    "scrolled": true
   },
   "outputs": [
    {
     "data": {
      "text/plain": [
       "Index(['Entity', 'Code', 'Year', 'Annual CO₂ emissions'], dtype='object')"
      ]
     },
     "execution_count": 3,
     "metadata": {},
     "output_type": "execute_result"
    }
   ],
   "source": [
    "df_co2.columns"
   ]
  },
  {
   "cell_type": "code",
   "execution_count": 4,
   "id": "6ffd9411",
   "metadata": {},
   "outputs": [
    {
     "data": {
      "text/plain": [
       "Index(['Entity', 'Code', 'Year', 'Renewables (% equivalent primary energy)'], dtype='object')"
      ]
     },
     "execution_count": 4,
     "metadata": {},
     "output_type": "execute_result"
    }
   ],
   "source": [
    "df_green_energy.columns"
   ]
  },
  {
   "cell_type": "code",
   "execution_count": 5,
   "id": "0f52f141",
   "metadata": {},
   "outputs": [
    {
     "data": {
      "text/plain": [
       "Index(['Entity', 'Year', 'Population'], dtype='object')"
      ]
     },
     "execution_count": 5,
     "metadata": {},
     "output_type": "execute_result"
    }
   ],
   "source": [
    "df_population.columns"
   ]
  },
  {
   "cell_type": "code",
   "execution_count": 6,
   "id": "03aae7ad",
   "metadata": {},
   "outputs": [
    {
     "data": {
      "text/plain": [
       "Index(['Entity', 'Code', 'Year', 'GDP (constant 2015 US$)'], dtype='object')"
      ]
     },
     "execution_count": 6,
     "metadata": {},
     "output_type": "execute_result"
    }
   ],
   "source": [
    "df_GDP.columns"
   ]
  },
  {
   "cell_type": "code",
   "execution_count": 7,
   "id": "037822be",
   "metadata": {
    "scrolled": false
   },
   "outputs": [
    {
     "name": "stdout",
     "output_type": "stream",
     "text": [
      "        Entity Code  Year  Annual CO₂ emissions\n",
      "0  Afghanistan  AFG  1949               14656.0\n",
      "1  Afghanistan  AFG  1950               84272.0\n",
      "2  Afghanistan  AFG  1951               91600.0\n",
      "3  Afghanistan  AFG  1952               91600.0\n",
      "4  Afghanistan  AFG  1953              106256.0\n"
     ]
    }
   ],
   "source": [
    "print(df_co2.head())"
   ]
  },
  {
   "cell_type": "code",
   "execution_count": 8,
   "id": "d731873a",
   "metadata": {},
   "outputs": [
    {
     "name": "stdout",
     "output_type": "stream",
     "text": [
      "   Entity Code  Year  Renewables (% equivalent primary energy)\n",
      "0  Africa  NaN  1965                                  5.747495\n",
      "1  Africa  NaN  1966                                  6.122062\n",
      "2  Africa  NaN  1967                                  6.325731\n",
      "3  Africa  NaN  1968                                  7.005293\n",
      "4  Africa  NaN  1969                                  7.956088\n"
     ]
    }
   ],
   "source": [
    "print(df_green_energy.head())"
   ]
  },
  {
   "cell_type": "code",
   "execution_count": 9,
   "id": "5ec8bac7",
   "metadata": {},
   "outputs": [
    {
     "name": "stdout",
     "output_type": "stream",
     "text": [
      "        Entity  Year  Population\n",
      "0  Afghanistan  1950     7480464\n",
      "1  Afghanistan  1951     7571542\n",
      "2  Afghanistan  1952     7667534\n",
      "3  Afghanistan  1953     7764549\n",
      "4  Afghanistan  1954     7864289\n"
     ]
    }
   ],
   "source": [
    "print(df_population.head())"
   ]
  },
  {
   "cell_type": "code",
   "execution_count": 10,
   "id": "13adb8c1",
   "metadata": {},
   "outputs": [
    {
     "name": "stdout",
     "output_type": "stream",
     "text": [
      "        Entity Code  Year  GDP (constant 2015 US$)\n",
      "0  Afghanistan  AFG  2002               7228792320\n",
      "1  Afghanistan  AFG  2003               7867259392\n",
      "2  Afghanistan  AFG  2004               7978511360\n",
      "3  Afghanistan  AFG  2005               8874475520\n",
      "4  Afghanistan  AFG  2006               9349916672\n"
     ]
    }
   ],
   "source": [
    "print(df_GDP.head())"
   ]
  },
  {
   "cell_type": "code",
   "execution_count": null,
   "id": "fd4344b9",
   "metadata": {},
   "outputs": [],
   "source": []
  },
  {
   "cell_type": "code",
   "execution_count": 11,
   "id": "d0b0d1a7",
   "metadata": {},
   "outputs": [
    {
     "data": {
      "text/html": [
       "<div>\n",
       "<style scoped>\n",
       "    .dataframe tbody tr th:only-of-type {\n",
       "        vertical-align: middle;\n",
       "    }\n",
       "\n",
       "    .dataframe tbody tr th {\n",
       "        vertical-align: top;\n",
       "    }\n",
       "\n",
       "    .dataframe thead th {\n",
       "        text-align: right;\n",
       "    }\n",
       "</style>\n",
       "<table border=\"1\" class=\"dataframe\">\n",
       "  <thead>\n",
       "    <tr style=\"text-align: right;\">\n",
       "      <th></th>\n",
       "      <th>Country</th>\n",
       "      <th>Year</th>\n",
       "      <th>CO2 emissions</th>\n",
       "      <th>Renewable energy %</th>\n",
       "      <th>Population</th>\n",
       "      <th>GDP</th>\n",
       "      <th>GDP per capita</th>\n",
       "      <th>Lower-middle income</th>\n",
       "      <th>Upper-middle income</th>\n",
       "      <th>High income</th>\n",
       "    </tr>\n",
       "  </thead>\n",
       "  <tbody>\n",
       "    <tr>\n",
       "      <th>71</th>\n",
       "      <td>Afghanistan</td>\n",
       "      <td>2020</td>\n",
       "      <td>1.168177e+07</td>\n",
       "      <td>NaN</td>\n",
       "      <td>3.897224e+07</td>\n",
       "      <td>2.062195e+10</td>\n",
       "      <td>529.144565</td>\n",
       "      <td>0</td>\n",
       "      <td>0</td>\n",
       "      <td>0</td>\n",
       "    </tr>\n",
       "    <tr>\n",
       "      <th>604</th>\n",
       "      <td>Albania</td>\n",
       "      <td>2020</td>\n",
       "      <td>4.728559e+06</td>\n",
       "      <td>NaN</td>\n",
       "      <td>2.866850e+06</td>\n",
       "      <td>1.245786e+10</td>\n",
       "      <td>4345.487955</td>\n",
       "      <td>0</td>\n",
       "      <td>1</td>\n",
       "      <td>0</td>\n",
       "    </tr>\n",
       "    <tr>\n",
       "      <th>710</th>\n",
       "      <td>Algeria</td>\n",
       "      <td>2020</td>\n",
       "      <td>1.725045e+08</td>\n",
       "      <td>0.297899</td>\n",
       "      <td>4.345167e+07</td>\n",
       "      <td>1.681441e+11</td>\n",
       "      <td>3869.682111</td>\n",
       "      <td>1</td>\n",
       "      <td>0</td>\n",
       "      <td>0</td>\n",
       "    </tr>\n",
       "    <tr>\n",
       "      <th>982</th>\n",
       "      <td>Andorra</td>\n",
       "      <td>2020</td>\n",
       "      <td>4.488840e+05</td>\n",
       "      <td>NaN</td>\n",
       "      <td>7.772300e+04</td>\n",
       "      <td>2.649304e+09</td>\n",
       "      <td>34086.484155</td>\n",
       "      <td>0</td>\n",
       "      <td>0</td>\n",
       "      <td>1</td>\n",
       "    </tr>\n",
       "    <tr>\n",
       "      <th>1054</th>\n",
       "      <td>Angola</td>\n",
       "      <td>2020</td>\n",
       "      <td>2.027573e+07</td>\n",
       "      <td>NaN</td>\n",
       "      <td>3.342849e+07</td>\n",
       "      <td>1.041287e+11</td>\n",
       "      <td>3114.968221</td>\n",
       "      <td>1</td>\n",
       "      <td>0</td>\n",
       "      <td>0</td>\n",
       "    </tr>\n",
       "    <tr>\n",
       "      <th>...</th>\n",
       "      <td>...</td>\n",
       "      <td>...</td>\n",
       "      <td>...</td>\n",
       "      <td>...</td>\n",
       "      <td>...</td>\n",
       "      <td>...</td>\n",
       "      <td>...</td>\n",
       "      <td>...</td>\n",
       "      <td>...</td>\n",
       "      <td>...</td>\n",
       "    </tr>\n",
       "    <tr>\n",
       "      <th>30812</th>\n",
       "      <td>Wallis and Futuna</td>\n",
       "      <td>2020</td>\n",
       "      <td>2.706900e+04</td>\n",
       "      <td>NaN</td>\n",
       "      <td>1.167900e+04</td>\n",
       "      <td>NaN</td>\n",
       "      <td>NaN</td>\n",
       "      <td>0</td>\n",
       "      <td>0</td>\n",
       "      <td>0</td>\n",
       "    </tr>\n",
       "    <tr>\n",
       "      <th>31084</th>\n",
       "      <td>World</td>\n",
       "      <td>2020</td>\n",
       "      <td>3.526409e+10</td>\n",
       "      <td>13.455194</td>\n",
       "      <td>7.840953e+09</td>\n",
       "      <td>8.183009e+13</td>\n",
       "      <td>10436.243005</td>\n",
       "      <td>0</td>\n",
       "      <td>1</td>\n",
       "      <td>0</td>\n",
       "    </tr>\n",
       "    <tr>\n",
       "      <th>31156</th>\n",
       "      <td>Yemen</td>\n",
       "      <td>2020</td>\n",
       "      <td>1.214013e+07</td>\n",
       "      <td>NaN</td>\n",
       "      <td>3.228404e+07</td>\n",
       "      <td>NaN</td>\n",
       "      <td>NaN</td>\n",
       "      <td>0</td>\n",
       "      <td>0</td>\n",
       "      <td>0</td>\n",
       "    </tr>\n",
       "    <tr>\n",
       "      <th>31228</th>\n",
       "      <td>Zambia</td>\n",
       "      <td>2020</td>\n",
       "      <td>7.280663e+06</td>\n",
       "      <td>NaN</td>\n",
       "      <td>1.892772e+07</td>\n",
       "      <td>2.341895e+10</td>\n",
       "      <td>1237.283227</td>\n",
       "      <td>1</td>\n",
       "      <td>0</td>\n",
       "      <td>0</td>\n",
       "    </tr>\n",
       "    <tr>\n",
       "      <th>31347</th>\n",
       "      <td>Zimbabwe</td>\n",
       "      <td>2020</td>\n",
       "      <td>1.060790e+07</td>\n",
       "      <td>NaN</td>\n",
       "      <td>1.566966e+07</td>\n",
       "      <td>1.942605e+10</td>\n",
       "      <td>1239.723407</td>\n",
       "      <td>1</td>\n",
       "      <td>0</td>\n",
       "      <td>0</td>\n",
       "    </tr>\n",
       "  </tbody>\n",
       "</table>\n",
       "<p>220 rows × 10 columns</p>\n",
       "</div>"
      ],
      "text/plain": [
       "                 Country  Year  CO2 emissions  Renewable energy %  \\\n",
       "71           Afghanistan  2020   1.168177e+07                 NaN   \n",
       "604              Albania  2020   4.728559e+06                 NaN   \n",
       "710              Algeria  2020   1.725045e+08            0.297899   \n",
       "982              Andorra  2020   4.488840e+05                 NaN   \n",
       "1054              Angola  2020   2.027573e+07                 NaN   \n",
       "...                  ...   ...            ...                 ...   \n",
       "30812  Wallis and Futuna  2020   2.706900e+04                 NaN   \n",
       "31084              World  2020   3.526409e+10           13.455194   \n",
       "31156              Yemen  2020   1.214013e+07                 NaN   \n",
       "31228             Zambia  2020   7.280663e+06                 NaN   \n",
       "31347           Zimbabwe  2020   1.060790e+07                 NaN   \n",
       "\n",
       "         Population           GDP  GDP per capita  Lower-middle income  \\\n",
       "71     3.897224e+07  2.062195e+10      529.144565                    0   \n",
       "604    2.866850e+06  1.245786e+10     4345.487955                    0   \n",
       "710    4.345167e+07  1.681441e+11     3869.682111                    1   \n",
       "982    7.772300e+04  2.649304e+09    34086.484155                    0   \n",
       "1054   3.342849e+07  1.041287e+11     3114.968221                    1   \n",
       "...             ...           ...             ...                  ...   \n",
       "30812  1.167900e+04           NaN             NaN                    0   \n",
       "31084  7.840953e+09  8.183009e+13    10436.243005                    0   \n",
       "31156  3.228404e+07           NaN             NaN                    0   \n",
       "31228  1.892772e+07  2.341895e+10     1237.283227                    1   \n",
       "31347  1.566966e+07  1.942605e+10     1239.723407                    1   \n",
       "\n",
       "       Upper-middle income  High income  \n",
       "71                       0            0  \n",
       "604                      1            0  \n",
       "710                      0            0  \n",
       "982                      0            1  \n",
       "1054                     0            0  \n",
       "...                    ...          ...  \n",
       "30812                    0            0  \n",
       "31084                    1            0  \n",
       "31156                    0            0  \n",
       "31228                    0            0  \n",
       "31347                    0            0  \n",
       "\n",
       "[220 rows x 10 columns]"
      ]
     },
     "execution_count": 11,
     "metadata": {},
     "output_type": "execute_result"
    }
   ],
   "source": [
    "df_combined = df_co2.merge(df_green_energy, how='left', on=['Entity', 'Code', 'Year']).merge(df_population, how='left', on=['Entity', 'Year']).merge(df_GDP, how='left', on=['Entity', 'Code', 'Year'])\n",
    "\n",
    "df_combined['GDP per capita'] = df_combined['GDP (constant 2015 US$)'] / df_combined['Population']\n",
    "\n",
    "def income_dummies(row):\n",
    "    if row['GDP per capita'] >= 1036 and row['GDP per capita'] < 4045:\n",
    "        return 1, 0, 0\n",
    "    elif row['GDP per capita'] >= 4045 and row['GDP per capita'] < 12535:\n",
    "        return 0, 1, 0\n",
    "    elif row['GDP per capita'] >= 12535:\n",
    "        return 0, 0, 1\n",
    "    else:\n",
    "        return 0, 0, 0\n",
    "\n",
    "df_combined[['Lower-middle income', 'Upper-middle income', 'High income']] = df_combined.apply(income_dummies, axis=1, result_type='expand')\n",
    "\n",
    "df_combined = df_combined.rename(columns={'Entity': 'Country', 'Annual CO₂ emissions': 'CO2 emissions', 'Renewables (% equivalent primary energy)': 'Renewable energy %', 'GDP (constant 2015 US$)': 'GDP'})\n",
    "df_combined = df_combined[df_combined['Code'].notna()]\n",
    "df_combined = df_combined.drop('Code', axis='columns')\n",
    "\n",
    "df_2020 = df_combined.loc[df_combined.Year == 2020]\n",
    "df_2020\n",
    "#In summary, this code merges four DataFrames, calculates GDP per capita, creates dummy variables for income categories, and cleans up the resulting DataFrame. It then selects only the rows with data from the year 2020 and prints them to the console.\n",
    "\n"
   ]
  },
  {
   "cell_type": "code",
   "execution_count": null,
   "id": "dd6eb26c",
   "metadata": {},
   "outputs": [],
   "source": []
  }
 ],
 "metadata": {
  "kernelspec": {
   "display_name": "Python 3 (ipykernel)",
   "language": "python",
   "name": "python3"
  },
  "language_info": {
   "codemirror_mode": {
    "name": "ipython",
    "version": 3
   },
   "file_extension": ".py",
   "mimetype": "text/x-python",
   "name": "python",
   "nbconvert_exporter": "python",
   "pygments_lexer": "ipython3",
   "version": "3.9.13"
  }
 },
 "nbformat": 4,
 "nbformat_minor": 5
}
